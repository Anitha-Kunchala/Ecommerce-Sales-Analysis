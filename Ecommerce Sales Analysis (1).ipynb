{
 "cells": [
  {
   "cell_type": "markdown",
   "id": "0d80871f-b4b4-4058-a3b6-e933d5f90375",
   "metadata": {},
   "source": [
    "## 1. Environment Setup"
   ]
  },
  {
   "cell_type": "code",
   "execution_count": 2,
   "id": "e73f7168-47f6-4b0b-a74c-8fae25f7cc7c",
   "metadata": {},
   "outputs": [],
   "source": [
    "import sqlite3\n",
    "import pandas as pd\n",
    "import matplotlib.pyplot as plt\n",
    "import seaborn as sns\n",
    "sns.set(style='whitegrid')"
   ]
  },
  {
   "cell_type": "markdown",
   "id": "97b98369-edeb-462f-ad00-514359c2ad65",
   "metadata": {},
   "source": [
    "## 2. Create and Populate SQLite Tables"
   ]
  },
  {
   "cell_type": "code",
   "execution_count": 44,
   "id": "0147d6ed-a1c3-4173-ba41-f13b9bfc6019",
   "metadata": {},
   "outputs": [],
   "source": [
    "conn = sqlite3.connect(\"Ecommerce data.db\")\n",
    "cursor = conn.cursor()\n",
    "\n",
    "\n",
    "cursor.executescript(\"\"\"\n",
    "DROP TABLE IF EXISTS Customers;\n",
    "DROP TABLE IF EXISTS Products;\n",
    "DROP TABLE IF EXISTS Orders;\n",
    "\n",
    "CREATE TABLE Customers (\n",
    "    CustomerID INTEGER PRIMARY KEY,\n",
    "    Name TEXT,\n",
    "    Gender TEXT,\n",
    "    Country TEXT\n",
    ");\n",
    "\n",
    "CREATE TABLE Products (\n",
    "    ProductID INTEGER PRIMARY KEY,\n",
    "    ProductName TEXT,\n",
    "    Category TEXT,\n",
    "    Price REAL\n",
    ");\n",
    "\n",
    "CREATE TABLE Orders (\n",
    "    OrderID INTEGER PRIMARY KEY,\n",
    "    CustomerID INTEGER,\n",
    "    ProductID INTEGER,\n",
    "    Quantity INTEGER,\n",
    "    OrderDate TEXT,\n",
    "    FOREIGN KEY (CustomerID) REFERENCES Customers(CustomerID),\n",
    "    FOREIGN KEY (ProductID) REFERENCES Products(ProductID)\n",
    ");\n",
    "\"\"\")\n",
    "\n",
    "# Insert sample data\n",
    "customers = [\n",
    "    (101, 'Alice', 'Female', 'Canada'),\n",
    "    (102, 'Bob', 'Male', 'UK'),\n",
    "    (103, 'Clara', 'Female', 'Canada'),\n",
    "    (104, 'David', 'Male', 'UK'),\n",
    "    (105,  'Bob', 'Male', 'UK'),\n",
    "   (106, 'Alice', 'Female', 'USA'),\n",
    "    (107, 'Rani', 'Female', 'USA'),\n",
    "    (108, 'sunitha', 'Female', 'UK'),\n",
    "    (109, 'Mahesh', 'male', 'USA'),\n",
    "    (110, 'Anitha', 'Female', 'Canada'),\n",
    "]\n",
    "\n",
    "cursor.executemany(\n",
    "    \"INSERT INTO Customers (CustomerID, Name, Gender, Country) VALUES (?, ?, ?, ?)\",\n",
    "    customers\n",
    ")\n",
    "\n",
    "products = [\n",
    "    (1, 'Laptop', 'Electronics', 1000),\n",
    "    (2, 'Mouse', 'Accessories', 250),\n",
    "    (3, 'Chair', 'Furniture', 150),\n",
    "    (4, 'Desk', 'Furniture', 300),\n",
    "    (5, 'Desk', 'Furniture', 300),\n",
    "    (6, 'Laptop', 'Electronics', 1000),\n",
    "    (7, 'Laptop', 'Electronics', 1000),\n",
    "    (8, 'Mouse', 'Accessories', 250),\n",
    "    (9, 'Laptop', 'Electronics', 1000),\n",
    "    (10, 'Chair', 'Furniture', 300),\n",
    "]\n",
    "cursor.executemany(\n",
    "    \"INSERT INTO products (ProductID,  ProductName, Category, Price) VALUES (?, ?, ?, ?)\",\n",
    "    products\n",
    ")\n",
    "orders = [\n",
    "    (1, 102, 1, 1, '2025-03-01'),\n",
    "    (2, 103, 2, 2, '2025-04-03'),\n",
    "    (3, 101, 3, 1, '2025-03-05'),\n",
    "    (4, 101, 2, 3, '2025-04-07'),\n",
    "    (5, 104, 4, 1, '2025-04-10'),\n",
    "    (6, 106, 1, 1, '2025-08-12'),\n",
    "     (7, 105, 5, 3, '2025-06-8'),\n",
    "     (8, 109, 1, 2, '2025-06-6'),\n",
    "     (9, 107, 6, 4, '2025-07-5'),\n",
    "     (10, 108, 8, 2, '2025-07-3'),\n",
    "]\n",
    "cursor.executemany(\n",
    "    \"INSERT INTO orders (OrderID, CustomerID, ProductID, Quantity, OrderDate) VALUES (?, ?, ?, ?, ?)\",\n",
    "    orders\n",
    ")\n",
    "conn.commit()\n"
   ]
  },
  {
   "cell_type": "markdown",
   "id": "91cfeeed-3bd4-42de-83d0-3b94df51f531",
   "metadata": {},
   "source": [
    "## 3. SQL Query - Total Orders by Country"
   ]
  },
  {
   "cell_type": "code",
   "execution_count": 45,
   "id": "ce9a64d7-91b5-4204-9b37-948d622384fa",
   "metadata": {},
   "outputs": [
    {
     "data": {
      "text/html": [
       "<div>\n",
       "<style scoped>\n",
       "    .dataframe tbody tr th:only-of-type {\n",
       "        vertical-align: middle;\n",
       "    }\n",
       "\n",
       "    .dataframe tbody tr th {\n",
       "        vertical-align: top;\n",
       "    }\n",
       "\n",
       "    .dataframe thead th {\n",
       "        text-align: right;\n",
       "    }\n",
       "</style>\n",
       "<table border=\"1\" class=\"dataframe\">\n",
       "  <thead>\n",
       "    <tr style=\"text-align: right;\">\n",
       "      <th></th>\n",
       "      <th>Country</th>\n",
       "      <th>TotalOrders</th>\n",
       "    </tr>\n",
       "  </thead>\n",
       "  <tbody>\n",
       "    <tr>\n",
       "      <th>0</th>\n",
       "      <td>UK</td>\n",
       "      <td>4</td>\n",
       "    </tr>\n",
       "    <tr>\n",
       "      <th>1</th>\n",
       "      <td>USA</td>\n",
       "      <td>3</td>\n",
       "    </tr>\n",
       "    <tr>\n",
       "      <th>2</th>\n",
       "      <td>Canada</td>\n",
       "      <td>3</td>\n",
       "    </tr>\n",
       "  </tbody>\n",
       "</table>\n",
       "</div>"
      ],
      "text/plain": [
       "  Country  TotalOrders\n",
       "0      UK            4\n",
       "1     USA            3\n",
       "2  Canada            3"
      ]
     },
     "execution_count": 45,
     "metadata": {},
     "output_type": "execute_result"
    }
   ],
   "source": [
    "query_country_orders = \"\"\"\n",
    "SELECT \n",
    "    c.Country,\n",
    "    COUNT(o.OrderID) AS TotalOrders\n",
    "FROM Customers c\n",
    "LEFT JOIN Orders o ON c.CustomerID = o.CustomerID\n",
    "GROUP BY c.Country\n",
    "ORDER BY TotalOrders DESC;\n",
    "\"\"\"\n",
    "\n",
    "df_country_orders = pd.read_sql(query_country_orders, conn)\n",
    "df_country_orders"
   ]
  },
  {
   "cell_type": "markdown",
   "id": "bdb9ea1c-5c3c-4668-9fb8-20c8ee62420e",
   "metadata": {},
   "source": [
    "## 4. Load Full Dataset for EDA"
   ]
  },
  {
   "cell_type": "code",
   "execution_count": 46,
   "id": "d2aa69ff-08ba-44da-b001-80d4124ddc64",
   "metadata": {},
   "outputs": [
    {
     "data": {
      "text/html": [
       "<div>\n",
       "<style scoped>\n",
       "    .dataframe tbody tr th:only-of-type {\n",
       "        vertical-align: middle;\n",
       "    }\n",
       "\n",
       "    .dataframe tbody tr th {\n",
       "        vertical-align: top;\n",
       "    }\n",
       "\n",
       "    .dataframe thead th {\n",
       "        text-align: right;\n",
       "    }\n",
       "</style>\n",
       "<table border=\"1\" class=\"dataframe\">\n",
       "  <thead>\n",
       "    <tr style=\"text-align: right;\">\n",
       "      <th></th>\n",
       "      <th>OrderID</th>\n",
       "      <th>Customer</th>\n",
       "      <th>Gender</th>\n",
       "      <th>Country</th>\n",
       "      <th>ProductName</th>\n",
       "      <th>Category</th>\n",
       "      <th>Price</th>\n",
       "      <th>Quantity</th>\n",
       "      <th>OrderDate</th>\n",
       "      <th>TotalAmount</th>\n",
       "    </tr>\n",
       "  </thead>\n",
       "  <tbody>\n",
       "    <tr>\n",
       "      <th>0</th>\n",
       "      <td>1</td>\n",
       "      <td>Bob</td>\n",
       "      <td>Male</td>\n",
       "      <td>UK</td>\n",
       "      <td>Laptop</td>\n",
       "      <td>Electronics</td>\n",
       "      <td>1000.0</td>\n",
       "      <td>1</td>\n",
       "      <td>2025-03-01</td>\n",
       "      <td>1000.0</td>\n",
       "    </tr>\n",
       "    <tr>\n",
       "      <th>1</th>\n",
       "      <td>2</td>\n",
       "      <td>Clara</td>\n",
       "      <td>Female</td>\n",
       "      <td>Canada</td>\n",
       "      <td>Mouse</td>\n",
       "      <td>Accessories</td>\n",
       "      <td>250.0</td>\n",
       "      <td>2</td>\n",
       "      <td>2025-04-03</td>\n",
       "      <td>500.0</td>\n",
       "    </tr>\n",
       "    <tr>\n",
       "      <th>2</th>\n",
       "      <td>3</td>\n",
       "      <td>Alice</td>\n",
       "      <td>Female</td>\n",
       "      <td>Canada</td>\n",
       "      <td>Chair</td>\n",
       "      <td>Furniture</td>\n",
       "      <td>150.0</td>\n",
       "      <td>1</td>\n",
       "      <td>2025-03-05</td>\n",
       "      <td>150.0</td>\n",
       "    </tr>\n",
       "    <tr>\n",
       "      <th>3</th>\n",
       "      <td>4</td>\n",
       "      <td>Alice</td>\n",
       "      <td>Female</td>\n",
       "      <td>Canada</td>\n",
       "      <td>Mouse</td>\n",
       "      <td>Accessories</td>\n",
       "      <td>250.0</td>\n",
       "      <td>3</td>\n",
       "      <td>2025-04-07</td>\n",
       "      <td>750.0</td>\n",
       "    </tr>\n",
       "    <tr>\n",
       "      <th>4</th>\n",
       "      <td>5</td>\n",
       "      <td>David</td>\n",
       "      <td>Male</td>\n",
       "      <td>UK</td>\n",
       "      <td>Desk</td>\n",
       "      <td>Furniture</td>\n",
       "      <td>300.0</td>\n",
       "      <td>1</td>\n",
       "      <td>2025-04-10</td>\n",
       "      <td>300.0</td>\n",
       "    </tr>\n",
       "    <tr>\n",
       "      <th>5</th>\n",
       "      <td>6</td>\n",
       "      <td>Alice</td>\n",
       "      <td>Female</td>\n",
       "      <td>USA</td>\n",
       "      <td>Laptop</td>\n",
       "      <td>Electronics</td>\n",
       "      <td>1000.0</td>\n",
       "      <td>1</td>\n",
       "      <td>2025-08-12</td>\n",
       "      <td>1000.0</td>\n",
       "    </tr>\n",
       "    <tr>\n",
       "      <th>6</th>\n",
       "      <td>7</td>\n",
       "      <td>Bob</td>\n",
       "      <td>Male</td>\n",
       "      <td>UK</td>\n",
       "      <td>Desk</td>\n",
       "      <td>Furniture</td>\n",
       "      <td>300.0</td>\n",
       "      <td>3</td>\n",
       "      <td>2025-06-8</td>\n",
       "      <td>900.0</td>\n",
       "    </tr>\n",
       "    <tr>\n",
       "      <th>7</th>\n",
       "      <td>8</td>\n",
       "      <td>Mahesh</td>\n",
       "      <td>male</td>\n",
       "      <td>USA</td>\n",
       "      <td>Laptop</td>\n",
       "      <td>Electronics</td>\n",
       "      <td>1000.0</td>\n",
       "      <td>2</td>\n",
       "      <td>2025-06-6</td>\n",
       "      <td>2000.0</td>\n",
       "    </tr>\n",
       "    <tr>\n",
       "      <th>8</th>\n",
       "      <td>9</td>\n",
       "      <td>Rani</td>\n",
       "      <td>Female</td>\n",
       "      <td>USA</td>\n",
       "      <td>Laptop</td>\n",
       "      <td>Electronics</td>\n",
       "      <td>1000.0</td>\n",
       "      <td>4</td>\n",
       "      <td>2025-07-5</td>\n",
       "      <td>4000.0</td>\n",
       "    </tr>\n",
       "    <tr>\n",
       "      <th>9</th>\n",
       "      <td>10</td>\n",
       "      <td>sunitha</td>\n",
       "      <td>Female</td>\n",
       "      <td>UK</td>\n",
       "      <td>Mouse</td>\n",
       "      <td>Accessories</td>\n",
       "      <td>250.0</td>\n",
       "      <td>2</td>\n",
       "      <td>2025-07-3</td>\n",
       "      <td>500.0</td>\n",
       "    </tr>\n",
       "  </tbody>\n",
       "</table>\n",
       "</div>"
      ],
      "text/plain": [
       "   OrderID Customer  Gender Country ProductName     Category   Price  \\\n",
       "0        1      Bob    Male      UK      Laptop  Electronics  1000.0   \n",
       "1        2    Clara  Female  Canada       Mouse  Accessories   250.0   \n",
       "2        3    Alice  Female  Canada       Chair    Furniture   150.0   \n",
       "3        4    Alice  Female  Canada       Mouse  Accessories   250.0   \n",
       "4        5    David    Male      UK        Desk    Furniture   300.0   \n",
       "5        6    Alice  Female     USA      Laptop  Electronics  1000.0   \n",
       "6        7      Bob    Male      UK        Desk    Furniture   300.0   \n",
       "7        8   Mahesh    male     USA      Laptop  Electronics  1000.0   \n",
       "8        9     Rani  Female     USA      Laptop  Electronics  1000.0   \n",
       "9       10  sunitha  Female      UK       Mouse  Accessories   250.0   \n",
       "\n",
       "   Quantity   OrderDate  TotalAmount  \n",
       "0         1  2025-03-01       1000.0  \n",
       "1         2  2025-04-03        500.0  \n",
       "2         1  2025-03-05        150.0  \n",
       "3         3  2025-04-07        750.0  \n",
       "4         1  2025-04-10        300.0  \n",
       "5         1  2025-08-12       1000.0  \n",
       "6         3   2025-06-8        900.0  \n",
       "7         2   2025-06-6       2000.0  \n",
       "8         4   2025-07-5       4000.0  \n",
       "9         2   2025-07-3        500.0  "
      ]
     },
     "execution_count": 46,
     "metadata": {},
     "output_type": "execute_result"
    }
   ],
   "source": [
    "query_full = \"\"\"\n",
    "SELECT \n",
    "    o.OrderID,\n",
    "    c.Name AS Customer,\n",
    "    c.Gender,\n",
    "    c.Country,\n",
    "    p.ProductName,\n",
    "    p.Category,\n",
    "    p.Price,\n",
    "    o.Quantity,\n",
    "    o.OrderDate,\n",
    "    (p.Price * o.Quantity) AS TotalAmount\n",
    "FROM Orders o\n",
    "JOIN Customers c ON o.CustomerID = c.CustomerID\n",
    "JOIN Products p ON o.ProductID = p.ProductID;\n",
    "\"\"\"\n",
    "df_orders = pd.read_sql(query_full, conn)\n",
    "df_orders.head(10)\n"
   ]
  },
  {
   "cell_type": "markdown",
   "id": "888a7534-bce7-42b2-9de0-6383c112bdc8",
   "metadata": {},
   "source": [
    "## 5.Exploratory Data Analysis(EDA)"
   ]
  },
  {
   "cell_type": "markdown",
   "id": "9273d8f8-6b62-43ad-b617-ef15e44199b6",
   "metadata": {},
   "source": [
    "### 1.Gender Distribution"
   ]
  },
  {
   "cell_type": "code",
   "execution_count": 47,
   "id": "89449a5a-f182-4ec7-a0e9-f118462c660d",
   "metadata": {},
   "outputs": [
    {
     "data": {
      "image/png": "[encoded data removed]",
      "text/plain": [
       "<Figure size 640x480 with 1 Axes>"
      ]
     },
     "metadata": {},
     "output_type": "display_data"
    }
   ],
   "source": [
    "# Fix any inconsistent gender values\n",
    "df_orders['Gender'] = df_orders['Gender'].str.strip().str.title()\n",
    "\n",
    "# Gender-wise colors\n",
    "palette = {\n",
    "    \"Male\": \"#1f77b4\",     # Blue\n",
    "    \"Female\": \"#ff69b4\"    # Pink\n",
    "}\n",
    "\n",
    "# Correct countplot\n",
    "sns.countplot(x='Gender', hue='Gender', data=df_orders, palette=palette)\n",
    "\n",
    "# Formatting\n",
    "plt.title(\"Order Count by Gender\")\n",
    "plt.ylabel(\"Count\")\n",
    "plt.xlabel(\"Gender\")\n",
    "plt.show()"
   ]
  },
  {
   "cell_type": "markdown",
   "id": "6cee05f2-3bf3-469d-85b4-00258e75273f",
   "metadata": {},
   "source": [
    "### 2.Total Sales by Product Categor"
   ]
  },
  {
   "cell_type": "code",
   "execution_count": 48,
   "id": "20e89aa3-657c-4733-8465-c9cf346fe965",
   "metadata": {},
   "outputs": [
    {
     "data": {
      "image/png": "[encoded data removed]",
      "text/plain": [
       "<Figure size 640x480 with 1 Axes>"
      ]
     },
     "metadata": {},
     "output_type": "display_data"
    }
   ],
   "source": [
    "# Group data\n",
    "category_sales = df_orders.groupby(\"Category\")[\"TotalAmount\"].sum().reset_index()\n",
    "\n",
    "# Define category-specific colors\n",
    "palette = {\n",
    "    \"Electronics\": \"#1f77b4\",\n",
    "    \"Accessories\": \"#2ca02c\",\n",
    "    \"Furniture\": \"#ff7f0e\"\n",
    "}\n",
    "\n",
    "# Use hue and suppress legend\n",
    "sns.barplot(x=\"Category\", y=\"TotalAmount\", hue=\"Category\", data=category_sales, palette=palette, legend=False)\n",
    "\n",
    "# Plot formatting\n",
    "plt.title(\"Total Sales by Product Category\")\n",
    "plt.ylabel(\"Total Amount\")\n",
    "plt.xlabel(\"Category\")\n",
    "plt.xticks(rotation=45)\n",
    "plt.tight_layout()\n",
    "plt.show()"
   ]
  },
  {
   "cell_type": "markdown",
   "id": "c68e85db-842d-4cda-97f2-5b8da33326c7",
   "metadata": {},
   "source": [
    "### 3.Sales by Country"
   ]
  },
  {
   "cell_type": "code",
   "execution_count": 49,
   "id": "417526ff-1bbc-4e87-9cca-4fe6e7b42d60",
   "metadata": {},
   "outputs": [
    {
     "data": {
      "image/png": "[encoded data removed]",
      "text/plain": [
       "<Figure size 640x480 with 1 Axes>"
      ]
     },
     "metadata": {},
     "output_type": "display_data"
    }
   ],
   "source": [
    "# Group and sort data\n",
    "country_sales = df_orders.groupby(\"Country\")[\"TotalAmount\"].sum().reset_index()\n",
    "country_sales = country_sales.sort_values(\"TotalAmount\", ascending=False)\n",
    "\n",
    "# Create color palette from bright palette\n",
    "countries = country_sales[\"Country\"].tolist()\n",
    "palette = dict(zip(countries, sns.color_palette(\"bright\", n_colors=len(countries))))\n",
    "\n",
    "\n",
    "# Plot\n",
    "sns.barplot(\n",
    "    x=\"Country\",\n",
    "    y=\"TotalAmount\",\n",
    "    hue=\"Country\",\n",
    "    data=country_sales,\n",
    "    palette=\"Set1\",\n",
    "    legend=False\n",
    ")\n",
    "\n",
    "# Formatting\n",
    "plt.title(\"Sales by Country\")\n",
    "plt.ylabel(\"Total Amount\")\n",
    "plt.xlabel(\"Country\")\n",
    "plt.xticks(rotation=45)\n",
    "plt.tight_layout()\n",
    "plt.show()\n",
    "\n"
   ]
  },
  {
   "cell_type": "code",
   "execution_count": 50,
   "id": "4ae602a9-3e83-4bbe-aeff-ce7bff9e3d97",
   "metadata": {},
   "outputs": [],
   "source": [
    "orders = pd.read_sql(\"SELECT * FROM orders\", conn)\n",
    "customers = pd.read_sql(\"SELECT * FROM customers\", conn)\n",
    "products = pd.read_sql(\"SELECT * FROM products\", conn)\n"
   ]
  },
  {
   "cell_type": "code",
   "execution_count": 51,
   "id": "799aae79-1df1-45fe-82a8-6013298d20c6",
   "metadata": {},
   "outputs": [],
   "source": [
    "# Merge orders with customers to get country\n",
    "merged_df = orders.merge(customers, on=\"CustomerID\").merge(products, on=\"ProductID\")\n",
    "\n",
    "# Group by country and calculate average price of products ordered\n",
    "country_product_price = merged_df.groupby(\"Country\")[\"Price\"].mean().reset_index()\n",
    "\n",
    "# Rename column for clarity\n",
    "country_product_price.rename(columns={\"Price\": \"avg_product_price\"}, inplace=True)\n",
    "\n",
    "# Sort by price descending\n",
    "country_product_price = country_product_price.sort_values(\"avg_product_price\", ascending=False)\n"
   ]
  },
  {
   "cell_type": "code",
   "execution_count": 52,
   "id": "fa50c786-133e-423a-8831-e0e78b9796c7",
   "metadata": {},
   "outputs": [
    {
     "name": "stdout",
     "output_type": "stream",
     "text": [
      "  Country  avg_product_price\n",
      "2     USA        1000.000000\n",
      "1      UK         462.500000\n",
      "0  Canada         216.666667\n"
     ]
    }
   ],
   "source": [
    "# View result\n",
    "print(country_product_price)"
   ]
  },
  {
   "cell_type": "markdown",
   "id": "39048781-b6af-4052-b800-6e050c696ea4",
   "metadata": {},
   "source": [
    "### 4.Average Product Price by Country"
   ]
  },
  {
   "cell_type": "code",
   "execution_count": 53,
   "id": "cbd48abf-ae25-4fb6-bfd5-71c2ef4ba0eb",
   "metadata": {},
   "outputs": [
    {
     "data": {
      "image/png": "[encoded data removed]",
      "text/plain": [
       "<Figure size 1000x600 with 1 Axes>"
      ]
     },
     "metadata": {},
     "output_type": "display_data"
    }
   ],
   "source": [
    "plt.figure(figsize=(10, 6))\n",
    "\n",
    "sns.barplot(\n",
    "    x=\"Country\", \n",
    "    y=\"avg_product_price\", \n",
    "    hue=\"Country\",              # Tell seaborn to color by country\n",
    "    data=country_product_price,\n",
    "    palette=\"husl\",             # Assign unique color per country\n",
    "    dodge=False,                # Keeps bars from being grouped\n",
    "    legend=False                # Hides redundant legend\n",
    ")\n",
    "\n",
    "plt.title(\"Average Product Price by Country\")\n",
    "plt.xlabel(\"Country\")\n",
    "plt.ylabel(\"Average Price\")\n",
    "plt.xticks(rotation=45)\n",
    "plt.tight_layout()\n",
    "plt.show()"
   ]
  },
  {
   "cell_type": "markdown",
   "id": "5ee8622e-1d8a-4558-97ac-0e61954c0491",
   "metadata": {},
   "source": [
    "### 5. Top 3 Products by Sales"
   ]
  },
  {
   "cell_type": "code",
   "execution_count": 54,
   "id": "ed904eed-d364-45ed-bd53-5eabdb0f0944",
   "metadata": {},
   "outputs": [],
   "source": [
    "df_orders[\"TotalSales\"] = df_orders[\"Quantity\"] * df_orders[\"Price\"]\n",
    "top_products = df_orders.groupby(\"ProductName\")[\"TotalSales\"].sum().reset_index()\n",
    "top_products = top_products.sort_values(by=\"TotalSales\", ascending=False).head(3)"
   ]
  },
  {
   "cell_type": "code",
   "execution_count": 55,
   "id": "a0fce119-9780-4285-a314-3ebd4d9dca12",
   "metadata": {},
   "outputs": [
    {
     "data": {
      "image/png": "[encoded data removed]",
      "text/plain": [
       "<Figure size 1200x600 with 1 Axes>"
      ]
     },
     "metadata": {},
     "output_type": "display_data"
    }
   ],
   "source": [
    "plt.figure(figsize=(12, 6))\n",
    "sns.barplot(data=top_products, x=\"TotalSales\", y=\"ProductName\",hue=\"TotalSales\", palette=\"Paired\")\n",
    "plt.title(\"Top 3 Products by Sales\")\n",
    "plt.xlabel(\"Total Sales\")\n",
    "plt.ylabel(\"Product Name\")\n",
    "plt.tight_layout()\n",
    "plt.show()"
   ]
  },
  {
   "cell_type": "markdown",
   "id": "e3bb35db-f7cf-4028-971d-48a95d038538",
   "metadata": {},
   "source": [
    "### 6.Monthly Sales Trend"
   ]
  },
  {
   "cell_type": "code",
   "execution_count": 56,
   "id": "f804e835-0d4b-4595-8e11-0c0adaadedf2",
   "metadata": {},
   "outputs": [
    {
     "data": {
      "image/png": "[encoded data removed]",
      "text/plain": [
       "<Figure size 800x500 with 1 Axes>"
      ]
     },
     "metadata": {},
     "output_type": "display_data"
    }
   ],
   "source": [
    "# Convert OrderDate to datetime and extract month\n",
    "df_orders[\"OrderDate\"] = pd.to_datetime(df_orders[\"OrderDate\"])\n",
    "df_orders[\"Month\"] = df_orders[\"OrderDate\"].dt.strftime(\"%b\")  # Month abbreviation\n",
    "\n",
    "# Group by Month and sum TotalAmount\n",
    "monthly_sales = df_orders.groupby(\"Month\")[\"TotalAmount\"].sum().reindex(\n",
    "    [\"Jan\", \"Feb\", \"Mar\", \"Apr\", \"May\", \"Jun\", \"Jul\", \"Aug\", \"Sep\", \"Oct\", \"Nov\", \"Dec\"]\n",
    ").dropna()\n",
    "\n",
    "# Plot monthly sales\n",
    "plt.figure(figsize=(8,5))\n",
    "plt.plot(monthly_sales.index, monthly_sales.values, marker=\"o\", linestyle=\"-\", color=\"teal\")\n",
    "plt.title(\"Monthly Sales Trend\", fontsize=14, fontweight=\"bold\")\n",
    "plt.xlabel(\"Month\")\n",
    "plt.ylabel(\"Total Sales Amount\")\n",
    "plt.grid(True, alpha=0.3)\n",
    "plt.show()"
   ]
  },
  {
   "cell_type": "markdown",
   "id": "be66dce7-1b5f-481f-b7ac-fc0bdca0b5dd",
   "metadata": {},
   "source": [
    "## Excel-like Queries in Jupyter (with Pandas)"
   ]
  },
  {
   "cell_type": "markdown",
   "id": "834440f2-8e26-44ac-a32a-f2569874b484",
   "metadata": {},
   "source": [
    "### 1. Total Sales (like =SUM(TotalAmount))"
   ]
  },
  {
   "cell_type": "code",
   "execution_count": 57,
   "id": "565ab90b-183b-4350-91e8-135c7bf43340",
   "metadata": {},
   "outputs": [
    {
     "name": "stdout",
     "output_type": "stream",
     "text": [
      "Total Sales: 11100.0\n"
     ]
    }
   ],
   "source": [
    "total_sales = df_orders['TotalAmount'].sum()\n",
    "print(\"Total Sales:\", total_sales)"
   ]
  },
  {
   "cell_type": "markdown",
   "id": "5da59fe6-2e22-43b1-a49b-0e61f14e3a24",
   "metadata": {},
   "source": [
    "### 2. Total Sales by Country (like =SUMIF)"
   ]
  },
  {
   "cell_type": "code",
   "execution_count": 58,
   "id": "aec45c7c-fa65-4ef9-a388-193e73fc93d0",
   "metadata": {},
   "outputs": [
    {
     "data": {
      "text/html": [
       "<div>\n",
       "<style scoped>\n",
       "    .dataframe tbody tr th:only-of-type {\n",
       "        vertical-align: middle;\n",
       "    }\n",
       "\n",
       "    .dataframe tbody tr th {\n",
       "        vertical-align: top;\n",
       "    }\n",
       "\n",
       "    .dataframe thead th {\n",
       "        text-align: right;\n",
       "    }\n",
       "</style>\n",
       "<table border=\"1\" class=\"dataframe\">\n",
       "  <thead>\n",
       "    <tr style=\"text-align: right;\">\n",
       "      <th></th>\n",
       "      <th>Country</th>\n",
       "      <th>TotalAmount</th>\n",
       "    </tr>\n",
       "  </thead>\n",
       "  <tbody>\n",
       "    <tr>\n",
       "      <th>0</th>\n",
       "      <td>Canada</td>\n",
       "      <td>1400.0</td>\n",
       "    </tr>\n",
       "    <tr>\n",
       "      <th>1</th>\n",
       "      <td>UK</td>\n",
       "      <td>2700.0</td>\n",
       "    </tr>\n",
       "    <tr>\n",
       "      <th>2</th>\n",
       "      <td>USA</td>\n",
       "      <td>7000.0</td>\n",
       "    </tr>\n",
       "  </tbody>\n",
       "</table>\n",
       "</div>"
      ],
      "text/plain": [
       "  Country  TotalAmount\n",
       "0  Canada       1400.0\n",
       "1      UK       2700.0\n",
       "2     USA       7000.0"
      ]
     },
     "execution_count": 58,
     "metadata": {},
     "output_type": "execute_result"
    }
   ],
   "source": [
    "sales_by_country = df_orders.groupby('Country')['TotalAmount'].sum().reset_index()\n",
    "sales_by_country"
   ]
  },
  {
   "cell_type": "markdown",
   "id": "5477a121-b87d-46ba-90c4-8ffc7904cdf4",
   "metadata": {},
   "source": [
    "### 3. Top 4 Products by Sales (like =SUMIFS + =SORT)"
   ]
  },
  {
   "cell_type": "code",
   "execution_count": 59,
   "id": "a0a2ed94-11dd-479e-a115-3153b280df1f",
   "metadata": {},
   "outputs": [
    {
     "data": {
      "text/html": [
       "<div>\n",
       "<style scoped>\n",
       "    .dataframe tbody tr th:only-of-type {\n",
       "        vertical-align: middle;\n",
       "    }\n",
       "\n",
       "    .dataframe tbody tr th {\n",
       "        vertical-align: top;\n",
       "    }\n",
       "\n",
       "    .dataframe thead th {\n",
       "        text-align: right;\n",
       "    }\n",
       "</style>\n",
       "<table border=\"1\" class=\"dataframe\">\n",
       "  <thead>\n",
       "    <tr style=\"text-align: right;\">\n",
       "      <th></th>\n",
       "      <th>ProductName</th>\n",
       "      <th>TotalAmount</th>\n",
       "    </tr>\n",
       "  </thead>\n",
       "  <tbody>\n",
       "    <tr>\n",
       "      <th>0</th>\n",
       "      <td>Laptop</td>\n",
       "      <td>8000.0</td>\n",
       "    </tr>\n",
       "    <tr>\n",
       "      <th>1</th>\n",
       "      <td>Mouse</td>\n",
       "      <td>1750.0</td>\n",
       "    </tr>\n",
       "    <tr>\n",
       "      <th>2</th>\n",
       "      <td>Desk</td>\n",
       "      <td>1200.0</td>\n",
       "    </tr>\n",
       "    <tr>\n",
       "      <th>3</th>\n",
       "      <td>Chair</td>\n",
       "      <td>150.0</td>\n",
       "    </tr>\n",
       "  </tbody>\n",
       "</table>\n",
       "</div>"
      ],
      "text/plain": [
       "  ProductName  TotalAmount\n",
       "0      Laptop       8000.0\n",
       "1       Mouse       1750.0\n",
       "2        Desk       1200.0\n",
       "3       Chair        150.0"
      ]
     },
     "execution_count": 59,
     "metadata": {},
     "output_type": "execute_result"
    }
   ],
   "source": [
    "top_products = df_orders.groupby('ProductName')['TotalAmount'].sum().sort_values(ascending=False).head(5).reset_index()\n",
    "top_products"
   ]
  },
  {
   "cell_type": "markdown",
   "id": "b35be18a-910d-4f52-938d-5860af08b4c9",
   "metadata": {},
   "source": [
    "### 4. Number of Orders by Gender (like =COUNTIF)"
   ]
  },
  {
   "cell_type": "code",
   "execution_count": 60,
   "id": "3ed67fe8-eb1a-4c69-9a29-76aeeb21f30c",
   "metadata": {},
   "outputs": [
    {
     "data": {
      "text/html": [
       "<div>\n",
       "<style scoped>\n",
       "    .dataframe tbody tr th:only-of-type {\n",
       "        vertical-align: middle;\n",
       "    }\n",
       "\n",
       "    .dataframe tbody tr th {\n",
       "        vertical-align: top;\n",
       "    }\n",
       "\n",
       "    .dataframe thead th {\n",
       "        text-align: right;\n",
       "    }\n",
       "</style>\n",
       "<table border=\"1\" class=\"dataframe\">\n",
       "  <thead>\n",
       "    <tr style=\"text-align: right;\">\n",
       "      <th></th>\n",
       "      <th>Gender</th>\n",
       "      <th>OrderCount</th>\n",
       "    </tr>\n",
       "  </thead>\n",
       "  <tbody>\n",
       "    <tr>\n",
       "      <th>0</th>\n",
       "      <td>Female</td>\n",
       "      <td>6</td>\n",
       "    </tr>\n",
       "    <tr>\n",
       "      <th>1</th>\n",
       "      <td>Male</td>\n",
       "      <td>4</td>\n",
       "    </tr>\n",
       "  </tbody>\n",
       "</table>\n",
       "</div>"
      ],
      "text/plain": [
       "   Gender  OrderCount\n",
       "0  Female           6\n",
       "1    Male           4"
      ]
     },
     "execution_count": 60,
     "metadata": {},
     "output_type": "execute_result"
    }
   ],
   "source": [
    "orders_by_gender = df_orders['Gender'].value_counts().reset_index()\n",
    "orders_by_gender.columns = ['Gender', 'OrderCount']\n",
    "orders_by_gender"
   ]
  },
  {
   "cell_type": "markdown",
   "id": "469a129d-611d-4069-ab07-4ea4d26e5b7c",
   "metadata": {},
   "source": [
    "### 5. Average Order Value (like =AVERAGE)"
   ]
  },
  {
   "cell_type": "code",
   "execution_count": 61,
   "id": "c13cf873-e111-476c-b03f-869c463378f3",
   "metadata": {},
   "outputs": [
    {
     "name": "stdout",
     "output_type": "stream",
     "text": [
      "Average Order Value: 1110.0\n"
     ]
    }
   ],
   "source": [
    "average_order_value = df_orders['TotalAmount'].mean()\n",
    "print(\"Average Order Value:\", average_order_value)"
   ]
  },
  {
   "cell_type": "markdown",
   "id": "59ba04d3-cc4c-4cae-b72f-084428bc6009",
   "metadata": {},
   "source": [
    "### 6.Monthly Sales Trend (like =MONTH() + =SUMIFS)"
   ]
  },
  {
   "cell_type": "code",
   "execution_count": 62,
   "id": "9de8bf78-ca0e-4b6a-a45c-f31bcab414b6",
   "metadata": {},
   "outputs": [
    {
     "data": {
      "text/html": [
       "<div>\n",
       "<style scoped>\n",
       "    .dataframe tbody tr th:only-of-type {\n",
       "        vertical-align: middle;\n",
       "    }\n",
       "\n",
       "    .dataframe tbody tr th {\n",
       "        vertical-align: top;\n",
       "    }\n",
       "\n",
       "    .dataframe thead th {\n",
       "        text-align: right;\n",
       "    }\n",
       "</style>\n",
       "<table border=\"1\" class=\"dataframe\">\n",
       "  <thead>\n",
       "    <tr style=\"text-align: right;\">\n",
       "      <th></th>\n",
       "      <th>Month</th>\n",
       "      <th>TotalAmount</th>\n",
       "    </tr>\n",
       "  </thead>\n",
       "  <tbody>\n",
       "    <tr>\n",
       "      <th>0</th>\n",
       "      <td>2025-03</td>\n",
       "      <td>1150.0</td>\n",
       "    </tr>\n",
       "    <tr>\n",
       "      <th>1</th>\n",
       "      <td>2025-04</td>\n",
       "      <td>1550.0</td>\n",
       "    </tr>\n",
       "    <tr>\n",
       "      <th>2</th>\n",
       "      <td>2025-06</td>\n",
       "      <td>2900.0</td>\n",
       "    </tr>\n",
       "    <tr>\n",
       "      <th>3</th>\n",
       "      <td>2025-07</td>\n",
       "      <td>4500.0</td>\n",
       "    </tr>\n",
       "    <tr>\n",
       "      <th>4</th>\n",
       "      <td>2025-08</td>\n",
       "      <td>1000.0</td>\n",
       "    </tr>\n",
       "  </tbody>\n",
       "</table>\n",
       "</div>"
      ],
      "text/plain": [
       "     Month  TotalAmount\n",
       "0  2025-03       1150.0\n",
       "1  2025-04       1550.0\n",
       "2  2025-06       2900.0\n",
       "3  2025-07       4500.0\n",
       "4  2025-08       1000.0"
      ]
     },
     "execution_count": 62,
     "metadata": {},
     "output_type": "execute_result"
    }
   ],
   "source": [
    "df_orders['Month'] = pd.to_datetime(df_orders['OrderDate']).dt.to_period('M')\n",
    "monthly_sales = df_orders.groupby('Month')['TotalAmount'].sum().reset_index()\n",
    "monthly_sales"
   ]
  },
  {
   "cell_type": "markdown",
   "id": "eb1f7a7b-e891-43b7-8963-976bef0bec1b",
   "metadata": {},
   "source": [
    "### 7. Sales by Category (like =PIVOT TABLE)"
   ]
  },
  {
   "cell_type": "code",
   "execution_count": 63,
   "id": "8025a3ce-586b-4e43-ae43-80aa94f1fe52",
   "metadata": {},
   "outputs": [
    {
     "data": {
      "text/html": [
       "<div>\n",
       "<style scoped>\n",
       "    .dataframe tbody tr th:only-of-type {\n",
       "        vertical-align: middle;\n",
       "    }\n",
       "\n",
       "    .dataframe tbody tr th {\n",
       "        vertical-align: top;\n",
       "    }\n",
       "\n",
       "    .dataframe thead th {\n",
       "        text-align: right;\n",
       "    }\n",
       "</style>\n",
       "<table border=\"1\" class=\"dataframe\">\n",
       "  <thead>\n",
       "    <tr style=\"text-align: right;\">\n",
       "      <th></th>\n",
       "      <th>Category</th>\n",
       "      <th>TotalAmount</th>\n",
       "    </tr>\n",
       "  </thead>\n",
       "  <tbody>\n",
       "    <tr>\n",
       "      <th>0</th>\n",
       "      <td>Accessories</td>\n",
       "      <td>1750.0</td>\n",
       "    </tr>\n",
       "    <tr>\n",
       "      <th>1</th>\n",
       "      <td>Electronics</td>\n",
       "      <td>8000.0</td>\n",
       "    </tr>\n",
       "    <tr>\n",
       "      <th>2</th>\n",
       "      <td>Furniture</td>\n",
       "      <td>1350.0</td>\n",
       "    </tr>\n",
       "  </tbody>\n",
       "</table>\n",
       "</div>"
      ],
      "text/plain": [
       "      Category  TotalAmount\n",
       "0  Accessories       1750.0\n",
       "1  Electronics       8000.0\n",
       "2    Furniture       1350.0"
      ]
     },
     "execution_count": 63,
     "metadata": {},
     "output_type": "execute_result"
    }
   ],
   "source": [
    "sales_by_category = df_orders.groupby('Category')['TotalAmount'].sum().reset_index()\n",
    "sales_by_category"
   ]
  },
  {
   "cell_type": "markdown",
   "id": "64e6042d-1551-4cb0-98c6-79d3f32b52e5",
   "metadata": {},
   "source": [
    "### 8. Top Customers (like =SUMIFS by Customer)"
   ]
  },
  {
   "cell_type": "code",
   "execution_count": 64,
   "id": "3357bf7f-3c79-4dd6-9676-aa83eb2efcc6",
   "metadata": {},
   "outputs": [
    {
     "data": {
      "text/html": [
       "<div>\n",
       "<style scoped>\n",
       "    .dataframe tbody tr th:only-of-type {\n",
       "        vertical-align: middle;\n",
       "    }\n",
       "\n",
       "    .dataframe tbody tr th {\n",
       "        vertical-align: top;\n",
       "    }\n",
       "\n",
       "    .dataframe thead th {\n",
       "        text-align: right;\n",
       "    }\n",
       "</style>\n",
       "<table border=\"1\" class=\"dataframe\">\n",
       "  <thead>\n",
       "    <tr style=\"text-align: right;\">\n",
       "      <th></th>\n",
       "      <th>Customer</th>\n",
       "      <th>TotalAmount</th>\n",
       "    </tr>\n",
       "  </thead>\n",
       "  <tbody>\n",
       "    <tr>\n",
       "      <th>0</th>\n",
       "      <td>Rani</td>\n",
       "      <td>4000.0</td>\n",
       "    </tr>\n",
       "    <tr>\n",
       "      <th>1</th>\n",
       "      <td>Mahesh</td>\n",
       "      <td>2000.0</td>\n",
       "    </tr>\n",
       "    <tr>\n",
       "      <th>2</th>\n",
       "      <td>Alice</td>\n",
       "      <td>1900.0</td>\n",
       "    </tr>\n",
       "    <tr>\n",
       "      <th>3</th>\n",
       "      <td>Bob</td>\n",
       "      <td>1900.0</td>\n",
       "    </tr>\n",
       "    <tr>\n",
       "      <th>4</th>\n",
       "      <td>Clara</td>\n",
       "      <td>500.0</td>\n",
       "    </tr>\n",
       "  </tbody>\n",
       "</table>\n",
       "</div>"
      ],
      "text/plain": [
       "  Customer  TotalAmount\n",
       "0     Rani       4000.0\n",
       "1   Mahesh       2000.0\n",
       "2    Alice       1900.0\n",
       "3      Bob       1900.0\n",
       "4    Clara        500.0"
      ]
     },
     "execution_count": 64,
     "metadata": {},
     "output_type": "execute_result"
    }
   ],
   "source": [
    "top_customers = df_orders.groupby('Customer')['TotalAmount'].sum().sort_values(ascending=False).head(5).reset_index()\n",
    "top_customers"
   ]
  },
  {
   "cell_type": "markdown",
   "id": "809b2ce1-ff84-4227-bb89-ad9be8e25922",
   "metadata": {},
   "source": [
    "### 9. Filtering Orders from UK (like =FILTER)\n"
   ]
  },
  {
   "cell_type": "code",
   "execution_count": 65,
   "id": "97fc0ecc-20b2-47fa-b5df-9084b1c015bf",
   "metadata": {},
   "outputs": [
    {
     "data": {
      "text/html": [
       "<div>\n",
       "<style scoped>\n",
       "    .dataframe tbody tr th:only-of-type {\n",
       "        vertical-align: middle;\n",
       "    }\n",
       "\n",
       "    .dataframe tbody tr th {\n",
       "        vertical-align: top;\n",
       "    }\n",
       "\n",
       "    .dataframe thead th {\n",
       "        text-align: right;\n",
       "    }\n",
       "</style>\n",
       "<table border=\"1\" class=\"dataframe\">\n",
       "  <thead>\n",
       "    <tr style=\"text-align: right;\">\n",
       "      <th></th>\n",
       "      <th>OrderID</th>\n",
       "      <th>Customer</th>\n",
       "      <th>Gender</th>\n",
       "      <th>Country</th>\n",
       "      <th>ProductName</th>\n",
       "      <th>Category</th>\n",
       "      <th>Price</th>\n",
       "      <th>Quantity</th>\n",
       "      <th>OrderDate</th>\n",
       "      <th>TotalAmount</th>\n",
       "      <th>TotalSales</th>\n",
       "      <th>Month</th>\n",
       "    </tr>\n",
       "  </thead>\n",
       "  <tbody>\n",
       "    <tr>\n",
       "      <th>0</th>\n",
       "      <td>1</td>\n",
       "      <td>Bob</td>\n",
       "      <td>Male</td>\n",
       "      <td>UK</td>\n",
       "      <td>Laptop</td>\n",
       "      <td>Electronics</td>\n",
       "      <td>1000.0</td>\n",
       "      <td>1</td>\n",
       "      <td>2025-03-01</td>\n",
       "      <td>1000.0</td>\n",
       "      <td>1000.0</td>\n",
       "      <td>2025-03</td>\n",
       "    </tr>\n",
       "    <tr>\n",
       "      <th>4</th>\n",
       "      <td>5</td>\n",
       "      <td>David</td>\n",
       "      <td>Male</td>\n",
       "      <td>UK</td>\n",
       "      <td>Desk</td>\n",
       "      <td>Furniture</td>\n",
       "      <td>300.0</td>\n",
       "      <td>1</td>\n",
       "      <td>2025-04-10</td>\n",
       "      <td>300.0</td>\n",
       "      <td>300.0</td>\n",
       "      <td>2025-04</td>\n",
       "    </tr>\n",
       "    <tr>\n",
       "      <th>6</th>\n",
       "      <td>7</td>\n",
       "      <td>Bob</td>\n",
       "      <td>Male</td>\n",
       "      <td>UK</td>\n",
       "      <td>Desk</td>\n",
       "      <td>Furniture</td>\n",
       "      <td>300.0</td>\n",
       "      <td>3</td>\n",
       "      <td>2025-06-08</td>\n",
       "      <td>900.0</td>\n",
       "      <td>900.0</td>\n",
       "      <td>2025-06</td>\n",
       "    </tr>\n",
       "    <tr>\n",
       "      <th>9</th>\n",
       "      <td>10</td>\n",
       "      <td>sunitha</td>\n",
       "      <td>Female</td>\n",
       "      <td>UK</td>\n",
       "      <td>Mouse</td>\n",
       "      <td>Accessories</td>\n",
       "      <td>250.0</td>\n",
       "      <td>2</td>\n",
       "      <td>2025-07-03</td>\n",
       "      <td>500.0</td>\n",
       "      <td>500.0</td>\n",
       "      <td>2025-07</td>\n",
       "    </tr>\n",
       "  </tbody>\n",
       "</table>\n",
       "</div>"
      ],
      "text/plain": [
       "   OrderID Customer  Gender Country ProductName     Category   Price  \\\n",
       "0        1      Bob    Male      UK      Laptop  Electronics  1000.0   \n",
       "4        5    David    Male      UK        Desk    Furniture   300.0   \n",
       "6        7      Bob    Male      UK        Desk    Furniture   300.0   \n",
       "9       10  sunitha  Female      UK       Mouse  Accessories   250.0   \n",
       "\n",
       "   Quantity  OrderDate  TotalAmount  TotalSales    Month  \n",
       "0         1 2025-03-01       1000.0      1000.0  2025-03  \n",
       "4         1 2025-04-10        300.0       300.0  2025-04  \n",
       "6         3 2025-06-08        900.0       900.0  2025-06  \n",
       "9         2 2025-07-03        500.0       500.0  2025-07  "
      ]
     },
     "execution_count": 65,
     "metadata": {},
     "output_type": "execute_result"
    }
   ],
   "source": [
    "orders_usa = df_orders[df_orders['Country'] == 'UK']\n",
    "orders_usa.head()"
   ]
  },
  {
   "cell_type": "markdown",
   "id": "73c56c14-fb46-450f-8a4a-5622fd037a4e",
   "metadata": {},
   "source": [
    "### 10. Find Product with Highest Revenue (like =MAX)"
   ]
  },
  {
   "cell_type": "code",
   "execution_count": 66,
   "id": "6a139443-27ed-4bd6-8093-0fb2d412d4a0",
   "metadata": {},
   "outputs": [
    {
     "name": "stdout",
     "output_type": "stream",
     "text": [
      "Highest Revenue Product: Laptop\n"
     ]
    }
   ],
   "source": [
    "max_product = df_orders.groupby('ProductName')['TotalAmount'].sum().idxmax()\n",
    "print(\"Highest Revenue Product:\", max_product)"
   ]
  }
 ],
 "metadata": {
  "kernelspec": {
   "display_name": "Python 3 (ipykernel)",
   "language": "python",
   "name": "python3"
  },
  "language_info": {
   "codemirror_mode": {
    "name": "ipython",
    "version": 3
   },
   "file_extension": ".py",
   "mimetype": "text/x-python",
   "name": "python",
   "nbconvert_exporter": "python",
   "pygments_lexer": "ipython3",
   "version": "3.13.5"
  }
 },
 "nbformat": 4,
 "nbformat_minor": 5
}
